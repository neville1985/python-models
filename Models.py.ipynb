{
 "cells": [
  {
   "cell_type": "code",
   "execution_count": 1,
   "id": "28300f71",
   "metadata": {},
   "outputs": [
    {
     "ename": "ModuleNotFoundError",
     "evalue": "No module named 'django'",
     "output_type": "error",
     "traceback": [
      "\u001b[1;31m---------------------------------------------------------------------------\u001b[0m",
      "\u001b[1;31mModuleNotFoundError\u001b[0m                       Traceback (most recent call last)",
      "\u001b[1;32m~\\AppData\\Local\\Temp/ipykernel_3840/3607156162.py\u001b[0m in \u001b[0;36m<module>\u001b[1;34m\u001b[0m\n\u001b[1;32m----> 1\u001b[1;33m \u001b[1;32mfrom\u001b[0m \u001b[0mdjango\u001b[0m\u001b[1;33m.\u001b[0m\u001b[0mdb\u001b[0m \u001b[1;32mimport\u001b[0m \u001b[0mmodels\u001b[0m\u001b[1;33m\u001b[0m\u001b[1;33m\u001b[0m\u001b[0m\n\u001b[0m\u001b[0;32m      2\u001b[0m \u001b[1;32mfrom\u001b[0m \u001b[0mdjango\u001b[0m\u001b[1;33m.\u001b[0m\u001b[0mcontrib\u001b[0m\u001b[1;33m.\u001b[0m\u001b[0mauth\u001b[0m\u001b[1;33m.\u001b[0m\u001b[0mmodels\u001b[0m \u001b[1;32mimport\u001b[0m \u001b[0mUser\u001b[0m\u001b[1;33m\u001b[0m\u001b[1;33m\u001b[0m\u001b[0m\n\u001b[0;32m      3\u001b[0m \u001b[1;32mfrom\u001b[0m \u001b[0mdjango\u001b[0m\u001b[1;33m.\u001b[0m\u001b[0mdb\u001b[0m\u001b[1;33m.\u001b[0m\u001b[0mmodels\u001b[0m\u001b[1;33m.\u001b[0m\u001b[0mfields\u001b[0m \u001b[1;32mimport\u001b[0m \u001b[0mCharField\u001b[0m\u001b[1;33m\u001b[0m\u001b[1;33m\u001b[0m\u001b[0m\n\u001b[0;32m      4\u001b[0m \u001b[1;32mfrom\u001b[0m \u001b[0mdatetime\u001b[0m \u001b[1;32mimport\u001b[0m \u001b[0mdatetime\u001b[0m\u001b[1;33m,\u001b[0m\u001b[0mtimedelta\u001b[0m\u001b[1;33m\u001b[0m\u001b[1;33m\u001b[0m\u001b[0m\n\u001b[0;32m      5\u001b[0m \u001b[1;32mclass\u001b[0m \u001b[0mUserExtend\u001b[0m\u001b[1;33m(\u001b[0m\u001b[0mmodels\u001b[0m\u001b[1;33m.\u001b[0m\u001b[0mModel\u001b[0m\u001b[1;33m)\u001b[0m\u001b[1;33m:\u001b[0m\u001b[1;33m\u001b[0m\u001b[1;33m\u001b[0m\u001b[0m\n",
      "\u001b[1;31mModuleNotFoundError\u001b[0m: No module named 'django'"
     ]
    }
   ],
   "source": [
    "from django.db import models\n",
    "from django.contrib.auth.models import User\n",
    "from django.db.models.fields import CharField\n",
    "from datetime import datetime,timedelta\n",
    "class UserExtend(models.Model):\n",
    "    user = models.OneToOneField(User,on_delete=models.CASCADE)\n",
    "    phone = models.IntegerField()\n",
    "    def __str__(self):\n",
    "       return self.user.username\n",
    "class AddBook(models.Model):\n",
    "    user = models.ForeignKey(User,default = 1, on_delete=models.CASCADE)\n",
    "    bookid=CharField(max_length=10)\n",
    "    bookname=CharField(max_length=50)\n",
    "    subject=CharField(max_length=20)\n",
    "    category= models.CharField(max_length = 10)\n",
    "    def __str__(self):\n",
    "        return str(self.bookname)+\"[\"+str(self.bookid)+']'\n",
    "def expiry():\n",
    "    return datetime.today() + timedelta(days=15)\n",
    "class IssueBook(models.Model):\n",
    "    user = models.ForeignKey(User,on_delete=models.CASCADE)\n",
    "    studentid=CharField(max_length=20)\n",
    "    book1=models.CharField(max_length=20)\n",
    "    issuedate=models.DateField(auto_now=True)\n",
    "    expirydate=models.DateField(default=expiry)\n",
    "    def __str__(self):\n",
    "        return self.studentid\n",
    "class ReturnBook(models.Model):\n",
    "    user=models.ForeignKey(User,on_delete=models.CASCADE)\n",
    "    bookid2=models.CharField(max_length=20)\n",
    "class AddStudent(models.Model):\n",
    "    user=models.OneToOneField(User,on_delete=models.CASCADE)\n",
    "    sname=models.CharField(max_length=30)\n",
    "    studentid=models.CharField(max_length=20)\n",
    "    def __str__(self):\n",
    "        return self.sname+'['+str(self.studentid)+']'"
   ]
  },
  {
   "cell_type": "code",
   "execution_count": null,
   "id": "ae6c872d",
   "metadata": {},
   "outputs": [],
   "source": []
  },
  {
   "cell_type": "code",
   "execution_count": null,
   "id": "3cd27929",
   "metadata": {},
   "outputs": [],
   "source": []
  }
 ],
 "metadata": {
  "kernelspec": {
   "display_name": "Python 3 (ipykernel)",
   "language": "python",
   "name": "python3"
  },
  "language_info": {
   "codemirror_mode": {
    "name": "ipython",
    "version": 3
   },
   "file_extension": ".py",
   "mimetype": "text/x-python",
   "name": "python",
   "nbconvert_exporter": "python",
   "pygments_lexer": "ipython3",
   "version": "3.9.7"
  }
 },
 "nbformat": 4,
 "nbformat_minor": 5
}
